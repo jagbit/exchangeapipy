{
 "metadata": {
  "language_info": {
   "codemirror_mode": {
    "name": "ipython",
    "version": 3
   },
   "file_extension": ".py",
   "mimetype": "text/x-python",
   "name": "python",
   "nbconvert_exporter": "python",
   "pygments_lexer": "ipython3",
   "version": "3.8.5-final"
  },
  "orig_nbformat": 2,
  "kernelspec": {
   "name": "python385jvsc74a57bd04881f5eacd7088bcf5a836f9e344288743d588393de6dc96f82d4b26fa31d287",
   "display_name": "Python 3.8.5 64-bit (conda)"
  }
 },
 "nbformat": 4,
 "nbformat_minor": 2,
 "cells": [
  {
   "cell_type": "code",
   "execution_count": 1,
   "metadata": {},
   "outputs": [],
   "source": [
    "## Load libraries\n",
    "# Interacting with the API\n",
    "import json\n",
    "from requests import get\n",
    "\n",
    "# Working with arrays, tables\n",
    "import numpy as np\n",
    "import pandas as pd\n",
    "\n",
    "# Working with datetime objects\n",
    "import time\n",
    "from time import sleep\n",
    "import pytz\n",
    "from datetime import datetime, date, timedelta\n",
    "\n",
    "# Type Hinting for clarity\n",
    "from typing import Callable\n",
    "\n",
    "# Binary storage\n",
    "import pyarrow as pa\n",
    "import pyarrow.parquet as pq\n",
    "# Report format\n",
    "import openpyxl\n",
    "\n",
    "\n",
    "# FUNCTION DEFINITIONS\n",
    "\n",
    "def timeshift(report_startdate:int) -> int:\n",
    "    \"\"\"\n",
    "        Shift the timestamp call to api by 15 minutes.\n",
    "    \"\"\"\n",
    "    updatedtime = report_startdate + 900\n",
    "    return(updatedtime)\n",
    "\n",
    "def tsconverter(timest : int) -> int:\n",
    "    \"\"\"\n",
    "        Convert the the date from the api to CST timezone to continue to pass it to the api.\n",
    "    \"\"\"\n",
    "    tz = pytz.timezone(\"America/Chicago\")\n",
    "    dateversion = datetime.fromtimestamp(timest, tz = tz)\n",
    "    loop_param_timestamp = int(pd.to_datetime(dateversion).timestamp())\n",
    "    return(loop_param_timestamp)\n",
    "\n",
    "def initradehist_ts(report_runtime:float, timez:str=\"America/Chicago\") -> int:\n",
    "    \"\"\"\n",
    "        Define a timestamp function that sets the timestamp parameter for Gemini API\n",
    "        It is hardcoded for the past 24 hours from the run time.\n",
    "    \"\"\"\n",
    "    tz = pytz.timezone(timez)\n",
    "    start_time = report_runtime\n",
    "    report_start = datetime.fromtimestamp(start_time, tz = tz)\n",
    "    hrs24ago = report_start - timedelta(days=1)\n",
    "    param_timestamp = int(pd.to_datetime(hrs24ago).timestamp())\n",
    "    return(param_timestamp)\n",
    "    \n",
    "\n",
    "def call_tradehistory(symbolurl_struct:dict, key:str, timestamp:int) -> pd.DataFrame:\n",
    "    \"\"\"\n",
    "        Function to call the Gemini Trade History API.\n",
    "        symbolurl_struct: dictionary containing names of symbols in report.\n",
    "        key: the symbol to get trade history for.\n",
    "        timestamp: timestamp from which the trade history API will start to pull data from. \n",
    "            It will pull 500 points of data starting from this timestamp.\n",
    "    \"\"\"\n",
    "    response_tradehistory = get(\n",
    "            url = symbolurl_struct[key],\n",
    "            params = {\n",
    "                \"since\": timestamp,\n",
    "                \"limit_trades\":500\n",
    "                }\n",
    "            )\n",
    "    tradehistory_frame = pd.json_normalize(response_tradehistory.json())\n",
    "    return (tradehistory_frame)"
   ]
  },
  {
   "cell_type": "code",
   "execution_count": 2,
   "metadata": {},
   "outputs": [],
   "source": [
    "\n",
    "timez = \"America/Chicago\"\n",
    "tz = pytz.timezone(timez)\n",
    "\n",
    "# Set the report start date\n",
    "report_runtime = datetime.now().replace(tzinfo=tz).timestamp()\n",
    "\n",
    "# 15 minute intervals\n",
    "report_interval = 900\n",
    "# number of 15 minutes in 1 day \n",
    "max_calls = 1440/15/2\n",
    "# Set the APIs we want to connect to:\n",
    "tradehistory_baseurl = \"https://api.gemini.com/v1/\"\n",
    "\n",
    "# Set trade history api endpoint\n",
    "tradehistory_endpoint = \"trades/\"\n",
    "\n",
    "# Set Symbols to be retreived\n",
    "symbols = [\"btcusd\",\"ethbtc\"]\n",
    "\n",
    "# Build url string for each symbol\n",
    "url_persymbol = [\"\".join([tradehistory_baseurl,tradehistory_endpoint,sym]) for sym in symbols]\n",
    "\n",
    "# Create a symbol/url array structure for ongoing programmatic retreival\n",
    "symbolurl_struct = {}\n",
    "for symbol,url in zip(symbols,url_persymbol):\n",
    "    symbolurl_struct[symbol] = url\n",
    "\n"
   ]
  },
  {
   "source": [
    "### MAIN REPORT BUILDER"
   ],
   "cell_type": "markdown",
   "metadata": {}
  },
  {
   "cell_type": "code",
   "execution_count": 3,
   "metadata": {},
   "outputs": [
    {
     "output_type": "execute_result",
     "data": {
      "text/plain": [
       "{'btcusd': 'https://api.gemini.com/v1/trades/btcusd',\n",
       " 'ethbtc': 'https://api.gemini.com/v1/trades/ethbtc'}"
      ]
     },
     "metadata": {},
     "execution_count": 3
    }
   ],
   "source": [
    "symbolurl_struct"
   ]
  },
  {
   "cell_type": "code",
   "execution_count": 4,
   "metadata": {},
   "outputs": [
    {
     "output_type": "stream",
     "name": "stdout",
     "text": [
      "\n",
      "Getting Trade History\n",
      "\n",
      "\n",
      "Most recent date from trade history: 2021-05-01 18:09:42\n",
      "\n",
      "\n",
      "Api call count: 2\n",
      "\n",
      "\n",
      "Getting Trade History\n",
      "\n",
      "\n",
      "Most recent date from trade history: 2021-05-01 18:51:48\n",
      "\n",
      "\n",
      "Api call count: 3\n",
      "\n",
      "\n",
      "Getting Trade History\n",
      "\n",
      "\n",
      "Most recent date from trade history: 2021-05-01 19:28:35\n",
      "\n",
      "\n",
      "Api call count: 4\n",
      "\n",
      "\n",
      "Getting Trade History\n",
      "\n",
      "\n",
      "Most recent date from trade history: 2021-05-01 20:19:25\n",
      "\n",
      "\n",
      "Api call count: 5\n",
      "\n",
      "\n",
      "Getting Trade History\n",
      "\n",
      "\n",
      "Most recent date from trade history: 2021-05-01 21:19:32\n",
      "\n",
      "\n",
      "Api call count: 6\n",
      "\n",
      "\n",
      "Getting Trade History\n",
      "\n",
      "\n",
      "Most recent date from trade history: 2021-05-01 22:21:31\n",
      "\n",
      "\n",
      "Api call count: 7\n",
      "\n",
      "\n",
      "Getting Trade History\n",
      "\n",
      "\n",
      "Most recent date from trade history: 2021-05-01 22:44:15\n",
      "\n",
      "\n",
      "Api call count: 8\n",
      "\n",
      "\n",
      "Getting Trade History\n",
      "\n",
      "\n",
      "Most recent date from trade history: 2021-05-01 23:09:42\n",
      "\n",
      "\n",
      "Api call count: 9\n",
      "\n",
      "\n",
      "Getting Trade History\n",
      "\n",
      "\n",
      "Most recent date from trade history: 2021-05-01 23:57:32\n",
      "\n",
      "\n",
      "Api call count: 10\n",
      "\n",
      "\n",
      "Getting Trade History\n",
      "\n",
      "\n",
      "Most recent date from trade history: 2021-05-02 00:58:21\n",
      "\n",
      "\n",
      "Api call count: 11\n",
      "\n",
      "\n",
      "Getting Trade History\n",
      "\n",
      "\n",
      "Most recent date from trade history: 2021-05-02 02:22:32\n",
      "\n",
      "\n",
      "Api call count: 12\n",
      "\n",
      "\n",
      "Getting Trade History\n",
      "\n",
      "\n",
      "Most recent date from trade history: 2021-05-02 03:19:20\n",
      "\n",
      "\n",
      "Api call count: 13\n",
      "\n",
      "\n",
      "Getting Trade History\n",
      "\n",
      "\n",
      "Most recent date from trade history: 2021-05-02 04:10:31\n",
      "\n",
      "\n",
      "Api call count: 14\n",
      "\n",
      "\n",
      "Getting Trade History\n",
      "\n",
      "\n",
      "Most recent date from trade history: 2021-05-02 05:13:45\n",
      "\n",
      "\n",
      "Api call count: 15\n",
      "\n",
      "\n",
      "Getting Trade History\n",
      "\n",
      "\n",
      "Most recent date from trade history: 2021-05-02 06:47:24\n",
      "\n",
      "\n",
      "Api call count: 16\n",
      "\n",
      "\n",
      "Getting Trade History\n",
      "\n",
      "\n",
      "Most recent date from trade history: 2021-05-02 07:59:14\n",
      "\n",
      "\n",
      "Api call count: 17\n",
      "\n",
      "\n",
      "Getting Trade History\n",
      "\n",
      "\n",
      "Most recent date from trade history: 2021-05-02 08:55:54\n",
      "\n",
      "\n",
      "Api call count: 18\n",
      "\n",
      "\n",
      "Getting Trade History\n",
      "\n",
      "\n",
      "Most recent date from trade history: 2021-05-02 09:58:33\n",
      "\n",
      "\n",
      "Api call count: 19\n",
      "\n",
      "\n",
      "Getting Trade History\n",
      "\n",
      "\n",
      "Most recent date from trade history: 2021-05-02 10:39:59\n",
      "\n",
      "\n",
      "Api call count: 20\n",
      "\n",
      "\n",
      "Getting Trade History\n",
      "\n",
      "\n",
      "Most recent date from trade history: 2021-05-02 11:23:57\n",
      "\n",
      "\n",
      "Api call count: 21\n",
      "\n",
      "\n",
      "Getting Trade History\n",
      "\n",
      "\n",
      "Most recent date from trade history: 2021-05-02 12:21:24\n",
      "\n",
      "\n",
      "Api call count: 22\n",
      "\n",
      "\n",
      "Getting Trade History\n",
      "\n",
      "\n",
      "Most recent date from trade history: 2021-05-02 13:06:07\n",
      "\n",
      "\n",
      "Api call count: 23\n",
      "\n",
      "\n",
      "Getting Trade History\n",
      "\n",
      "\n",
      "Most recent date from trade history: 2021-05-02 13:55:22\n",
      "\n",
      "\n",
      "Api call count: 24\n",
      "\n",
      "\n",
      "Getting Trade History\n",
      "\n",
      "\n",
      "Most recent date from trade history: 2021-05-02 14:34:44\n",
      "\n",
      "\n",
      "Api call count: 25\n",
      "\n",
      "\n",
      "Getting Trade History\n",
      "\n",
      "\n",
      "Most recent date from trade history: 2021-05-02 15:24:30\n",
      "\n",
      "\n",
      "Api call count: 26\n",
      "\n",
      "\n",
      "Getting Trade History\n",
      "\n",
      "\n",
      "Most recent date from trade history: 2021-05-02 15:56:00\n",
      "\n",
      "Finished calling trade history api.\n",
      "2021-05-02 15:56:00\n"
     ]
    }
   ],
   "source": [
    "btcusd_response = get(\n",
    "        url = symbolurl_struct[\"btcusd\"],\n",
    "        params = {\n",
    "            \"since\": initradehist_ts(report_runtime = report_runtime, timez = timez),\n",
    "            \"limit_trades\":500\n",
    "            }\n",
    "    )\n",
    "\n",
    "# Turn the raw json response to a pandas dataframe\n",
    "tradehistory_frame = pd.json_normalize(btcusd_response.json())\n",
    "tradehistory_frame\n",
    "\n",
    "report_frame = pd.DataFrame()\n",
    "temp_apiframe = tradehistory_frame.copy()\n",
    "api_ts = max(temp_apiframe[\"timestamp\"])\n",
    "converted_apits = tsconverter(api_ts)\n",
    "boundar_l = converted_apits - 900*2\n",
    "boundar_h = converted_apits + 900*2\n",
    "stop_boundary = report_runtime - 900*2\n",
    "apicall_count = 1\n",
    "\n",
    "while boundar_h < stop_boundary or boundar_l < stop_boundary:\n",
    "        print(\"\\nGetting Trade History\\n\")\n",
    "        \n",
    "        sleep(1)\n",
    "        shiftedts = timeshift(converted_apits)\n",
    "        shiftedcheck = max(shiftedts,stop_boundary) == stop_boundary\n",
    "        if shiftedcheck == False: \n",
    "            print(f\"\\nFinished calling trade history api before next call.\\n\")\n",
    "            next_tscall = pd.Timestamp.fromtimestamp(shiftedcheck)\n",
    "            print(f'Stop calling. Check date: {next_tscall}')\n",
    "            break\n",
    "        raw_tradehistory = call_tradehistory(symbolurl_struct,\"btcusd\", shiftedts)\n",
    "        api_ts = max(raw_tradehistory[\"timestamp\"])\n",
    "        newconverted_apits = tsconverter(api_ts)\n",
    "        print(f\"\\nMost recent date from trade history: {pd.Timestamp.fromtimestamp(newconverted_apits)}\\n\")\n",
    "        boundar_l = newconverted_apits - 900*2\n",
    "        boundar_h = newconverted_apits + 900*2\n",
    "        \n",
    "        if boundar_h > stop_boundary or boundar_l > stop_boundary:\n",
    "            print(f\"Finished calling trade history api.\")\n",
    "            print(pd.Timestamp.fromtimestamp(newconverted_apits))\n",
    "            break\n",
    "        \n",
    "        else:\n",
    "            report_frame = report_frame.append(raw_tradehistory, ignore_index=True)\n",
    "            converted_apits = newconverted_apits\n",
    "\n",
    "        apicall_count = apicall_count + 1\n",
    "        print(f\"\\nApi call count: {apicall_count}\\n\")\n",
    "        if apicall_count > max_calls:\n",
    "            break"
   ]
  },
  {
   "cell_type": "code",
   "execution_count": 6,
   "metadata": {},
   "outputs": [
    {
     "output_type": "stream",
     "name": "stdout",
     "text": [
      "2021-05-02 14:49:46\n"
     ]
    }
   ],
   "source": [
    "date_check = datetime.fromtimestamp(report_frame['timestamp'].iloc[-1])\n",
    "print(date_check)\n",
    "csv_frame = report_frame.copy()"
   ]
  },
  {
   "cell_type": "code",
   "execution_count": 7,
   "metadata": {},
   "outputs": [
    {
     "output_type": "stream",
     "name": "stdout",
     "text": [
      "    timestamp    timestampms          tid     price      amount exchange type\n0  1619910582  1619910582742  37081221885  57692.57  0.00237879   gemini  buy\n1  1619910582  1619910582742  37081221883  57692.57  0.00002402   gemini  buy\n2  1619910559  1619910559452  37081192530  57701.65  0.00139175   gemini  buy\n3  1619910553  1619910553783  37081187629  57707.31  0.00759975   gemini  buy\n4  1619910549  1619910549784  37081185344  57710.20  0.00167262   gemini  buy\n\n\n"
     ]
    }
   ],
   "source": [
    "def ts_convert(timest):\n",
    "    dateversion = datetime.fromtimestamp(timest)\n",
    "    return(dateversion)\n",
    "\n",
    "def tsms_convert(time_ms):\n",
    "    s = time_ms / 1000.0\n",
    "    dttime = datetime.fromtimestamp(s)\n",
    "    return dttime.strftime('%Y-%m-%d %H:%M:%S.%f')\n",
    "\n",
    "\n",
    "print(csv_frame.head())\n",
    "print(\"\\n\")"
   ]
  },
  {
   "source": [
    "### Converting the dates to a readable format for CSV "
   ],
   "cell_type": "markdown",
   "metadata": {}
  },
  {
   "cell_type": "code",
   "execution_count": 8,
   "metadata": {},
   "outputs": [],
   "source": [
    "readable_timestamp = pd.Series(map(ts_convert,csv_frame['timestamp']))"
   ]
  },
  {
   "cell_type": "code",
   "execution_count": 9,
   "metadata": {},
   "outputs": [
    {
     "output_type": "stream",
     "name": "stdout",
     "text": [
      "0       2021-05-01 18:09:42\n1       2021-05-01 18:09:42\n2       2021-05-01 18:09:19\n3       2021-05-01 18:09:13\n4       2021-05-01 18:09:09\n                ...        \n12491   2021-05-02 14:50:26\n12492   2021-05-02 14:50:26\n12493   2021-05-02 14:50:25\n12494   2021-05-02 14:50:25\n12495   2021-05-02 14:50:21\nLength: 12496, dtype: datetime64[ns]\n"
     ]
    }
   ],
   "source": [
    "# CHECK\n",
    "print(readable_timestamp[:-4])"
   ]
  },
  {
   "cell_type": "code",
   "execution_count": 10,
   "metadata": {},
   "outputs": [],
   "source": [
    "# Assign\n",
    "csv_frame['timestamp'] = readable_timestamp"
   ]
  },
  {
   "cell_type": "code",
   "execution_count": 11,
   "metadata": {},
   "outputs": [],
   "source": [
    "# Repeat for timestampms\n",
    "readable_timestampms = pd.Series(map(tsms_convert, csv_frame['timestampms']))"
   ]
  },
  {
   "cell_type": "code",
   "execution_count": 12,
   "metadata": {},
   "outputs": [
    {
     "output_type": "stream",
     "name": "stdout",
     "text": [
      "0        2021-05-01 18:09:42.742000\n1        2021-05-01 18:09:42.742000\n2        2021-05-01 18:09:19.452000\n3        2021-05-01 18:09:13.783000\n4        2021-05-01 18:09:09.784000\n                    ...            \n12491    2021-05-02 14:50:26.462000\n12492    2021-05-02 14:50:26.462000\n12493    2021-05-02 14:50:25.731000\n12494    2021-05-02 14:50:25.136000\n12495    2021-05-02 14:50:21.624000\nLength: 12496, dtype: object\n"
     ]
    }
   ],
   "source": [
    "print(readable_timestampms[:-4])"
   ]
  },
  {
   "cell_type": "code",
   "execution_count": 13,
   "metadata": {},
   "outputs": [],
   "source": [
    "csv_frame['timestampms'] = readable_timestampms"
   ]
  },
  {
   "cell_type": "code",
   "execution_count": 14,
   "metadata": {},
   "outputs": [
    {
     "output_type": "execute_result",
     "data": {
      "text/plain": [
       "            timestamp                 timestampms          tid     price  \\\n",
       "0 2021-05-01 18:09:42  2021-05-01 18:09:42.742000  37081221885  57692.57   \n",
       "1 2021-05-01 18:09:42  2021-05-01 18:09:42.742000  37081221883  57692.57   \n",
       "2 2021-05-01 18:09:19  2021-05-01 18:09:19.452000  37081192530  57701.65   \n",
       "3 2021-05-01 18:09:13  2021-05-01 18:09:13.783000  37081187629  57707.31   \n",
       "4 2021-05-01 18:09:09  2021-05-01 18:09:09.784000  37081185344  57710.20   \n",
       "\n",
       "       amount exchange type  \n",
       "0  0.00237879   gemini  buy  \n",
       "1  0.00002402   gemini  buy  \n",
       "2  0.00139175   gemini  buy  \n",
       "3  0.00759975   gemini  buy  \n",
       "4  0.00167262   gemini  buy  "
      ],
      "text/html": "<div>\n<style scoped>\n    .dataframe tbody tr th:only-of-type {\n        vertical-align: middle;\n    }\n\n    .dataframe tbody tr th {\n        vertical-align: top;\n    }\n\n    .dataframe thead th {\n        text-align: right;\n    }\n</style>\n<table border=\"1\" class=\"dataframe\">\n  <thead>\n    <tr style=\"text-align: right;\">\n      <th></th>\n      <th>timestamp</th>\n      <th>timestampms</th>\n      <th>tid</th>\n      <th>price</th>\n      <th>amount</th>\n      <th>exchange</th>\n      <th>type</th>\n    </tr>\n  </thead>\n  <tbody>\n    <tr>\n      <th>0</th>\n      <td>2021-05-01 18:09:42</td>\n      <td>2021-05-01 18:09:42.742000</td>\n      <td>37081221885</td>\n      <td>57692.57</td>\n      <td>0.00237879</td>\n      <td>gemini</td>\n      <td>buy</td>\n    </tr>\n    <tr>\n      <th>1</th>\n      <td>2021-05-01 18:09:42</td>\n      <td>2021-05-01 18:09:42.742000</td>\n      <td>37081221883</td>\n      <td>57692.57</td>\n      <td>0.00002402</td>\n      <td>gemini</td>\n      <td>buy</td>\n    </tr>\n    <tr>\n      <th>2</th>\n      <td>2021-05-01 18:09:19</td>\n      <td>2021-05-01 18:09:19.452000</td>\n      <td>37081192530</td>\n      <td>57701.65</td>\n      <td>0.00139175</td>\n      <td>gemini</td>\n      <td>buy</td>\n    </tr>\n    <tr>\n      <th>3</th>\n      <td>2021-05-01 18:09:13</td>\n      <td>2021-05-01 18:09:13.783000</td>\n      <td>37081187629</td>\n      <td>57707.31</td>\n      <td>0.00759975</td>\n      <td>gemini</td>\n      <td>buy</td>\n    </tr>\n    <tr>\n      <th>4</th>\n      <td>2021-05-01 18:09:09</td>\n      <td>2021-05-01 18:09:09.784000</td>\n      <td>37081185344</td>\n      <td>57710.20</td>\n      <td>0.00167262</td>\n      <td>gemini</td>\n      <td>buy</td>\n    </tr>\n  </tbody>\n</table>\n</div>"
     },
     "metadata": {},
     "execution_count": 14
    }
   ],
   "source": [
    "csv_frame.head()"
   ]
  },
  {
   "cell_type": "code",
   "execution_count": 15,
   "metadata": {},
   "outputs": [],
   "source": [
    "# If it looks okay, export to CSV\n",
    "csv_frame.to_csv('tradehistory_daily_btcusd_gemini_210502.csv', index=False)"
   ]
  },
  {
   "source": [
    "### Save in a persistant binary format"
   ],
   "cell_type": "markdown",
   "metadata": {}
  },
  {
   "cell_type": "code",
   "execution_count": 16,
   "metadata": {},
   "outputs": [],
   "source": [
    "pqtable = pa.Table.from_pandas(report_frame)\n",
    "pq.write_table(pqtable, 'tradehistory_daily_btcusd_gemini_210502.parquet')"
   ]
  },
  {
   "source": [
    "    "
   ],
   "cell_type": "markdown",
   "metadata": {}
  },
  {
   "source": [
    "# Discussion\n",
    "\n",
    "- Running again for ethbtc\n"
   ],
   "cell_type": "markdown",
   "metadata": {}
  },
  {
   "cell_type": "code",
   "execution_count": null,
   "metadata": {},
   "outputs": [],
   "source": []
  }
 ]
}
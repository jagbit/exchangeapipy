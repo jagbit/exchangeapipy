{
 "metadata": {
  "language_info": {
   "codemirror_mode": {
    "name": "ipython",
    "version": 3
   },
   "file_extension": ".py",
   "mimetype": "text/x-python",
   "name": "python",
   "nbconvert_exporter": "python",
   "pygments_lexer": "ipython3",
   "version": "3.8.5-final"
  },
  "orig_nbformat": 2,
  "kernelspec": {
   "name": "python3",
   "display_name": "Python 3.8.5 64-bit (conda)",
   "metadata": {
    "interpreter": {
     "hash": "4881f5eacd7088bcf5a836f9e344288743d588393de6dc96f82d4b26fa31d287"
    }
   }
  }
 },
 "nbformat": 4,
 "nbformat_minor": 2,
 "cells": [
  {
   "cell_type": "code",
   "execution_count": 1,
   "metadata": {},
   "outputs": [],
   "source": [
    "## Load libraries\n",
    "# Interacting with the API\n",
    "import json\n",
    "from requests import get\n",
    "\n",
    "# Working with arrays, tables\n",
    "import numpy as np\n",
    "import pandas as pd\n",
    "\n",
    "# Working with datetime objects\n",
    "import time\n",
    "from time import sleep\n",
    "import pytz\n",
    "from datetime import datetime, date, timedelta\n",
    "\n",
    "# Type Hinting for clarity\n",
    "from typing import Callable\n",
    "\n",
    "# Binary storage\n",
    "import pyarrow as pa\n",
    "import pyarrow.parquet as pq\n",
    "# Report format\n",
    "import openpyxl\n",
    "\n",
    "\n",
    "# FUNCTION DEFINITIONS\n",
    "\n",
    "def timeshift(report_startdate:int) -> int:\n",
    "    \"\"\"\n",
    "        Shift the timestamp call to api by 15 minutes.\n",
    "    \"\"\"\n",
    "    updatedtime = report_startdate + 900\n",
    "    return(updatedtime)\n",
    "\n",
    "def tsconverter(timest : int) -> int:\n",
    "    \"\"\"\n",
    "        Convert the the date from the api to CST timezone to continue to pass it to the api.\n",
    "    \"\"\"\n",
    "    tz = pytz.timezone(\"America/Chicago\")\n",
    "    dateversion = datetime.fromtimestamp(timest, tz = tz)\n",
    "    loop_param_timestamp = int(pd.to_datetime(dateversion).timestamp())\n",
    "    return(loop_param_timestamp)\n",
    "\n",
    "def initradehist_ts(report_runtime:float, timez:str=\"America/Chicago\") -> int:\n",
    "    \"\"\"\n",
    "        Define a timestamp function that sets the timestamp parameter for Gemini API\n",
    "        It is hardcoded for the past 24 hours from the run time.\n",
    "    \"\"\"\n",
    "    tz = pytz.timezone(timez)\n",
    "    start_time = report_runtime\n",
    "    report_start = datetime.fromtimestamp(start_time, tz = tz)\n",
    "    hrs24ago = report_start - timedelta(days=1)\n",
    "    param_timestamp = int(pd.to_datetime(hrs24ago).timestamp())\n",
    "    return(param_timestamp)\n",
    "    \n",
    "\n",
    "def call_tradehistory(symbolurl_struct:dict, key:str, timestamp:int) -> pd.DataFrame:\n",
    "    \"\"\"\n",
    "        Function to call the Gemini Trade History API.\n",
    "        symbolurl_struct: dictionary containing names of symbols in report.\n",
    "        key: the symbol to get trade history for.\n",
    "        timestamp: timestamp from which the trade history API will start to pull data from. \n",
    "            It will pull 500 points of data starting from this timestamp.\n",
    "    \"\"\"\n",
    "    response_tradehistory = get(\n",
    "            url = symbolurl_struct[key],\n",
    "            params = {\n",
    "                \"since\": timestamp,\n",
    "                \"limit_trades\":500\n",
    "                }\n",
    "            )\n",
    "    tradehistory_frame = pd.json_normalize(response_tradehistory.json())\n",
    "    return (tradehistory_frame)"
   ]
  },
  {
   "cell_type": "code",
   "execution_count": 2,
   "metadata": {},
   "outputs": [],
   "source": [
    "\n",
    "timez = \"America/Chicago\"\n",
    "tz = pytz.timezone(timez)\n",
    "\n",
    "# Set the report start date\n",
    "report_runtime = datetime.now().replace(tzinfo=tz).timestamp()\n",
    "\n",
    "# 15 minute intervals\n",
    "report_interval = 900\n",
    "# number of 15 minutes in 1 day \n",
    "max_calls = 1440/15/2\n",
    "# Set the APIs we want to connect to:\n",
    "tradehistory_baseurl = \"https://api.gemini.com/v1/\"\n",
    "\n",
    "# Set trade history api endpoint\n",
    "tradehistory_endpoint = \"trades/\"\n",
    "\n",
    "# Set Symbols to be retreived\n",
    "symbols = [\"btcusd\",\"ethbtc\"]\n",
    "\n",
    "# Build url string for each symbol\n",
    "url_persymbol = [\"\".join([tradehistory_baseurl,tradehistory_endpoint,sym]) for sym in symbols]\n",
    "\n",
    "# Create a symbol/url array structure for ongoing programmatic retreival\n",
    "symbolurl_struct = {}\n",
    "for symbol,url in zip(symbols,url_persymbol):\n",
    "    symbolurl_struct[symbol] = url\n",
    "\n"
   ]
  },
  {
   "source": [
    "### MAIN REPORT BUILDER"
   ],
   "cell_type": "markdown",
   "metadata": {}
  },
  {
   "cell_type": "code",
   "execution_count": 3,
   "metadata": {},
   "outputs": [
    {
     "output_type": "execute_result",
     "data": {
      "text/plain": [
       "{'btcusd': 'https://api.gemini.com/v1/trades/btcusd',\n",
       " 'ethbtc': 'https://api.gemini.com/v1/trades/ethbtc'}"
      ]
     },
     "metadata": {},
     "execution_count": 3
    }
   ],
   "source": [
    "symbolurl_struct"
   ]
  },
  {
   "cell_type": "code",
   "execution_count": 5,
   "metadata": {},
   "outputs": [
    {
     "output_type": "stream",
     "name": "stdout",
     "text": [
      "\nGetting Trade History\n\n"
     ]
    },
    {
     "output_type": "error",
     "ename": "KeyboardInterrupt",
     "evalue": "",
     "traceback": [
      "\u001b[1;31m---------------------------------------------------------------------------\u001b[0m",
      "\u001b[1;31mKeyboardInterrupt\u001b[0m                         Traceback (most recent call last)",
      "\u001b[1;32m<ipython-input-5-af9782232dbd>\u001b[0m in \u001b[0;36m<module>\u001b[1;34m\u001b[0m\n\u001b[0;32m     23\u001b[0m         \u001b[0mprint\u001b[0m\u001b[1;33m(\u001b[0m\u001b[1;34m\"\\nGetting Trade History\\n\"\u001b[0m\u001b[1;33m)\u001b[0m\u001b[1;33m\u001b[0m\u001b[1;33m\u001b[0m\u001b[0m\n\u001b[0;32m     24\u001b[0m \u001b[1;33m\u001b[0m\u001b[0m\n\u001b[1;32m---> 25\u001b[1;33m         \u001b[0msleep\u001b[0m\u001b[1;33m(\u001b[0m\u001b[1;36m1\u001b[0m\u001b[1;33m)\u001b[0m\u001b[1;33m\u001b[0m\u001b[1;33m\u001b[0m\u001b[0m\n\u001b[0m\u001b[0;32m     26\u001b[0m         \u001b[0mshiftedts\u001b[0m \u001b[1;33m=\u001b[0m \u001b[0mtimeshift\u001b[0m\u001b[1;33m(\u001b[0m\u001b[0mconverted_apits\u001b[0m\u001b[1;33m)\u001b[0m\u001b[1;33m\u001b[0m\u001b[1;33m\u001b[0m\u001b[0m\n\u001b[0;32m     27\u001b[0m         \u001b[0mshiftedcheck\u001b[0m \u001b[1;33m=\u001b[0m \u001b[0mmax\u001b[0m\u001b[1;33m(\u001b[0m\u001b[0mshiftedts\u001b[0m\u001b[1;33m,\u001b[0m\u001b[0mstop_boundary\u001b[0m\u001b[1;33m)\u001b[0m \u001b[1;33m==\u001b[0m \u001b[0mstop_boundary\u001b[0m\u001b[1;33m\u001b[0m\u001b[1;33m\u001b[0m\u001b[0m\n",
      "\u001b[1;31mKeyboardInterrupt\u001b[0m: "
     ]
    }
   ],
   "source": [
    "btcusd_response = get(\n",
    "        url = symbolurl_struct[\"btcusd\"],\n",
    "        params = {\n",
    "            \"since\": initradehist_ts(report_runtime = report_runtime, timez = timez),\n",
    "            \"limit_trades\":500\n",
    "            }\n",
    "    )\n",
    "\n",
    "# Turn the raw json response to a pandas dataframe\n",
    "tradehistory_frame = pd.json_normalize(btcusd_response.json())\n",
    "tradehistory_frame\n",
    "\n",
    "report_frame = pd.DataFrame()\n",
    "temp_apiframe = tradehistory_frame.copy()\n",
    "api_ts = max(temp_apiframe[\"timestamp\"])\n",
    "converted_apits = tsconverter(api_ts)\n",
    "boundar_l = converted_apits - 900*2\n",
    "boundar_h = converted_apits + 900*2\n",
    "stop_boundary = report_runtime - 900*2\n",
    "apicall_count = 1\n",
    "\n",
    "while boundar_h < stop_boundary or boundar_l < stop_boundary:\n",
    "        print(\"\\nGetting Trade History\\n\")\n",
    "        \n",
    "        sleep(1)\n",
    "        shiftedts = timeshift(converted_apits)\n",
    "        shiftedcheck = max(shiftedts,stop_boundary) == stop_boundary\n",
    "        if shiftedcheck == False: \n",
    "            print(f\"\\nFinished calling trade history api before next call.\\n\")\n",
    "            next_tscall = pd.Timestamp.fromtimestamp(shiftedcheck)\n",
    "            print(f'Stop calling. Check date: {next_tscall}')\n",
    "            break\n",
    "        raw_tradehistory = call_tradehistory(symbolurl_struct,\"btcusd\", shiftedts)\n",
    "        api_ts = max(raw_tradehistory[\"timestamp\"])\n",
    "        newconverted_apits = tsconverter(api_ts)\n",
    "        print(f\"\\nMost recent date from trade history: {pd.Timestamp.fromtimestamp(newconverted_apits)}\\n\")\n",
    "        boundar_l = newconverted_apits - 900*2\n",
    "        boundar_h = newconverted_apits + 900*2\n",
    "        \n",
    "        if boundar_h > stop_boundary or boundar_l > stop_boundary:\n",
    "            print(f\"Finished calling trade history api.\")\n",
    "            print(pd.Timestamp.fromtimestamp(newconverted_apits))\n",
    "            break\n",
    "        \n",
    "        else:\n",
    "            report_frame = report_frame.append(raw_tradehistory, ignore_index=True)\n",
    "            converted_apits = newconverted_apits\n",
    "\n",
    "        apicall_count = apicall_count + 1\n",
    "        print(f\"\\nApi call count: {apicall_count}\\n\")\n",
    "        if apicall_count > max_calls:\n",
    "            break"
   ]
  },
  {
   "cell_type": "code",
   "execution_count": 17,
   "metadata": {},
   "outputs": [
    {
     "output_type": "stream",
     "name": "stdout",
     "text": [
      "2021-03-18 10:02:30\n"
     ]
    }
   ],
   "source": [
    "date_check = datetime.fromtimestamp(report_frame['timestamp'].iloc[-1])\n",
    "print()\n",
    "csv_frame = report_frame.copy()"
   ]
  },
  {
   "cell_type": "code",
   "execution_count": 51,
   "metadata": {},
   "outputs": [
    {
     "output_type": "stream",
     "name": "stdout",
     "text": [
      "            timestamp    timestampms          tid     price      amount  \\\n0 2021-03-17 12:23:34  1616001814607  28558064578  55324.61  0.06253041   \n1 2021-03-17 12:23:34  1616001814591  28558064479  55324.61  0.11437875   \n2 2021-03-17 12:23:34  1616001814591  28558064477  55324.62  0.00562125   \n3 2021-03-17 12:23:33  1616001813750  28558059771  55356.22      0.0001   \n4 2021-03-17 12:23:33  1616001813750  28558059769  55356.22      0.0001   \n\n  exchange  type  \n0   gemini  sell  \n1   gemini  sell  \n2   gemini  sell  \n3   gemini  sell  \n4   gemini  sell  \n\n\n"
     ]
    }
   ],
   "source": [
    "def ts_convert(timest):\n",
    "    dateversion = datetime.fromtimestamp(timest)\n",
    "    return(dateversion)\n",
    "\n",
    "def tsms_convert(time_ms):\n",
    "    s = time_ms / 1000.0\n",
    "    dttime = datetime.fromtimestamp(s)\n",
    "    return dttime.strftime('%Y-%m-%d %H:%M:%S.%f')\n",
    "\n",
    "\n",
    "print(csv_frame.head())\n",
    "print(\"\\n\")"
   ]
  },
  {
   "source": [
    "### Converting the dates to a readable format for CSV "
   ],
   "cell_type": "markdown",
   "metadata": {}
  },
  {
   "cell_type": "code",
   "execution_count": null,
   "metadata": {},
   "outputs": [],
   "source": [
    "readable_timestamp = pd.Series(map(ts_convert,csv_frame['timestamp']))"
   ]
  },
  {
   "cell_type": "code",
   "execution_count": null,
   "metadata": {},
   "outputs": [],
   "source": [
    "# CHECK\n",
    "print(readable_timestamp[:-4])"
   ]
  },
  {
   "cell_type": "code",
   "execution_count": null,
   "metadata": {},
   "outputs": [],
   "source": [
    "# Assign\n",
    "csv_frame['timestamp'] = readable_timestamp"
   ]
  },
  {
   "cell_type": "code",
   "execution_count": 53,
   "metadata": {},
   "outputs": [
    {
     "output_type": "stream",
     "name": "stdout",
     "text": [
      "0        2021-03-17 12:23:34.607000\n1        2021-03-17 12:23:34.591000\n2        2021-03-17 12:23:34.591000\n3        2021-03-17 12:23:33.750000\n4        2021-03-17 12:23:33.750000\n                    ...            \n19491    2021-03-18 10:02:49.205000\n19492    2021-03-18 10:02:49.205000\n19493    2021-03-18 10:02:46.805000\n19494    2021-03-18 10:02:46.804000\n19495    2021-03-18 10:02:46.804000\nLength: 19496, dtype: object\n"
     ]
    },
    {
     "output_type": "execute_result",
     "data": {
      "text/plain": [
       "            timestamp                 timestampms          tid     price  \\\n",
       "0 2021-03-17 12:23:34  2021-03-17 12:23:34.607000  28558064578  55324.61   \n",
       "1 2021-03-17 12:23:34  2021-03-17 12:23:34.591000  28558064479  55324.61   \n",
       "2 2021-03-17 12:23:34  2021-03-17 12:23:34.591000  28558064477  55324.62   \n",
       "3 2021-03-17 12:23:33  2021-03-17 12:23:33.750000  28558059771  55356.22   \n",
       "4 2021-03-17 12:23:33  2021-03-17 12:23:33.750000  28558059769  55356.22   \n",
       "\n",
       "       amount exchange  type  \n",
       "0  0.06253041   gemini  sell  \n",
       "1  0.11437875   gemini  sell  \n",
       "2  0.00562125   gemini  sell  \n",
       "3      0.0001   gemini  sell  \n",
       "4      0.0001   gemini  sell  "
      ],
      "text/html": "<div>\n<style scoped>\n    .dataframe tbody tr th:only-of-type {\n        vertical-align: middle;\n    }\n\n    .dataframe tbody tr th {\n        vertical-align: top;\n    }\n\n    .dataframe thead th {\n        text-align: right;\n    }\n</style>\n<table border=\"1\" class=\"dataframe\">\n  <thead>\n    <tr style=\"text-align: right;\">\n      <th></th>\n      <th>timestamp</th>\n      <th>timestampms</th>\n      <th>tid</th>\n      <th>price</th>\n      <th>amount</th>\n      <th>exchange</th>\n      <th>type</th>\n    </tr>\n  </thead>\n  <tbody>\n    <tr>\n      <th>0</th>\n      <td>2021-03-17 12:23:34</td>\n      <td>2021-03-17 12:23:34.607000</td>\n      <td>28558064578</td>\n      <td>55324.61</td>\n      <td>0.06253041</td>\n      <td>gemini</td>\n      <td>sell</td>\n    </tr>\n    <tr>\n      <th>1</th>\n      <td>2021-03-17 12:23:34</td>\n      <td>2021-03-17 12:23:34.591000</td>\n      <td>28558064479</td>\n      <td>55324.61</td>\n      <td>0.11437875</td>\n      <td>gemini</td>\n      <td>sell</td>\n    </tr>\n    <tr>\n      <th>2</th>\n      <td>2021-03-17 12:23:34</td>\n      <td>2021-03-17 12:23:34.591000</td>\n      <td>28558064477</td>\n      <td>55324.62</td>\n      <td>0.00562125</td>\n      <td>gemini</td>\n      <td>sell</td>\n    </tr>\n    <tr>\n      <th>3</th>\n      <td>2021-03-17 12:23:33</td>\n      <td>2021-03-17 12:23:33.750000</td>\n      <td>28558059771</td>\n      <td>55356.22</td>\n      <td>0.0001</td>\n      <td>gemini</td>\n      <td>sell</td>\n    </tr>\n    <tr>\n      <th>4</th>\n      <td>2021-03-17 12:23:33</td>\n      <td>2021-03-17 12:23:33.750000</td>\n      <td>28558059769</td>\n      <td>55356.22</td>\n      <td>0.0001</td>\n      <td>gemini</td>\n      <td>sell</td>\n    </tr>\n  </tbody>\n</table>\n</div>"
     },
     "metadata": {},
     "execution_count": 53
    }
   ],
   "source": [
    "# Repeat for timestampms\n",
    "readable_timestampms = pd.Series(map(tsms_convert, csv_frame['timestampms']))"
   ]
  },
  {
   "cell_type": "code",
   "execution_count": null,
   "metadata": {},
   "outputs": [],
   "source": [
    "print(readable_timestampms[:-4])"
   ]
  },
  {
   "cell_type": "code",
   "execution_count": null,
   "metadata": {},
   "outputs": [],
   "source": [
    "csv_frame['timestampms'] = readable_timestampms"
   ]
  },
  {
   "cell_type": "code",
   "execution_count": null,
   "metadata": {},
   "outputs": [],
   "source": [
    "csv_frame.head()"
   ]
  },
  {
   "cell_type": "code",
   "execution_count": 24,
   "metadata": {},
   "outputs": [
    {
     "output_type": "execute_result",
     "data": {
      "text/plain": [
       "19496   2021-03-18 10:02:45\n",
       "19497   2021-03-18 10:02:31\n",
       "19498   2021-03-18 10:02:30\n",
       "19499   2021-03-18 10:02:30\n",
       "Name: timestamp, dtype: datetime64[ns]"
      ]
     },
     "metadata": {},
     "execution_count": 24
    }
   ],
   "source": [
    "# If it looks okay, export to CSV\r\n",
    "csv_frame.to_csv('tradehistory_daily_btcusd_gemini_210318.csv', index=False)"
   ]
  },
  {
   "source": [
    "### Save in a persistant binary format"
   ],
   "cell_type": "markdown",
   "metadata": {}
  },
  {
   "cell_type": "code",
   "execution_count": 7,
   "metadata": {},
   "outputs": [],
   "source": [
    "pqtable = pa.Table.from_pandas(report_frame)\n",
    "pq.write_table(pqtable, 'tradehistory_daily_btcusd_gemini_210318.parquet')"
   ]
  },
  {
   "source": [
    "    "
   ],
   "cell_type": "markdown",
   "metadata": {}
  },
  {
   "source": [
    "# Discussion\n",
    "\n",
    "- Running again for ethbtc\n",
    "\n",
    "- Cleaning up"
   ],
   "cell_type": "markdown",
   "metadata": {}
  },
  {
   "cell_type": "code",
   "execution_count": null,
   "metadata": {},
   "outputs": [],
   "source": []
  }
 ]
}
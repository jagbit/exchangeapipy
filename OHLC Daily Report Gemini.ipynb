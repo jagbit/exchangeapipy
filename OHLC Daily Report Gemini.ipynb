{
 "metadata": {
  "language_info": {
   "codemirror_mode": {
    "name": "ipython",
    "version": 3
   },
   "file_extension": ".py",
   "mimetype": "text/x-python",
   "name": "python",
   "nbconvert_exporter": "python",
   "pygments_lexer": "ipython3",
   "version": "3.8.5-final"
  },
  "orig_nbformat": 2,
  "kernelspec": {
   "name": "python3",
   "display_name": "Python 3.8.5 64-bit (conda)",
   "metadata": {
    "interpreter": {
     "hash": "4881f5eacd7088bcf5a836f9e344288743d588393de6dc96f82d4b26fa31d287"
    }
   }
  }
 },
 "nbformat": 4,
 "nbformat_minor": 2,
 "cells": [
  {
   "cell_type": "code",
   "execution_count": 39,
   "metadata": {},
   "outputs": [],
   "source": [
    "## Load libraries\n",
    "# Interacting with the API\n",
    "import json\n",
    "from requests import get\n",
    "from datetime import datetime\n",
    "# Working with arrays, tables\n",
    "import numpy as np\n",
    "import pandas as pd\n",
    "#from numba import jit\n",
    "# Binary storage\n",
    "import pyarrow as pa\n",
    "import pyarrow.parquet as pq\n",
    "\n",
    "def get_candles_gemini(url:str) -> pd.DataFrame:\n",
    "    \"\"\"Call Gemini Candles API\"\"\"\n",
    "    candle_response = get(url)\n",
    "    candle_report = pd.DataFrame(candle_response.json())\n",
    "    candle_report.columns = ['time','open','high','low','close','volume']\n",
    "    return candle_report"
   ]
  },
  {
   "cell_type": "code",
   "execution_count": 41,
   "metadata": {},
   "outputs": [
    {
     "output_type": "stream",
     "name": "stdout",
     "text": [
      "https://api.gemini.com/v2/candles/ethbtc/1day\n"
     ]
    }
   ],
   "source": [
    "\n",
    "tradehistory_baseurl = \"https://api.gemini.com/v2/\"\n",
    "tradehistory_endpoint = \"candles/\"\n",
    "\n",
    "symbols = [\"btcusd\",\"ethbtc\"]\n",
    "symbols_url = [\"\".join([sym,\"/\"]) for sym in symbols]\n",
    "\n",
    "interval = {\n",
    "    \"1m\": \"1m\",\n",
    "    \"5m\": \"5m\",\n",
    "    \"15m\": \"15m\",\n",
    "    \"30m\": \"30m\",\n",
    "    \"1hr\": \"1hr\",\n",
    "    \"6hr\": \"6hr\",\n",
    "    \"1day\": \"1day\"\n",
    "}\n",
    "\n",
    "report_interal = interval['1day']\n",
    "\n",
    "\n",
    "url_persymbol = [\"\".join([tradehistory_baseurl,tradehistory_endpoint,sym,report_interal]) for sym in symbols_url]\n",
    "\n",
    "symbolurl_struct = {}\n",
    "for symbol,url in zip(symbols,url_persymbol):\n",
    "    symbolurl_struct[symbol] = url\n",
    "\n",
    "# Set currency pair for report\n",
    "report_symbol = symbols[1]\n",
    "\n",
    "\n",
    "report_url = symbolurl_struct[report_symbol]\n",
    "print(report_url)"
   ]
  },
  {
   "cell_type": "code",
   "execution_count": 42,
   "metadata": {},
   "outputs": [
    {
     "output_type": "stream",
     "name": "stdout",
     "text": [
      "            time     open     high      low    close       volume\n0  1616040000000  0.03124  0.03124  0.03049  0.03096   977.991021\n1  1615953600000  0.03183  0.03244  0.03079  0.03124  3007.687423\n2  1615867200000  0.03225  0.03271  0.03150  0.03183  1484.684485\n3  1615780800000  0.03120  0.03231  0.03076  0.03225  3063.958026\n4  1615694400000  0.03119  0.03154  0.03089  0.03120  1280.342195\n\n\n(366, 6)\n"
     ]
    }
   ],
   "source": [
    "candle_report = get_candles_gemini(report_url)\n",
    "\n",
    "print(candle_report.head())\n",
    "print(\"\\n\")\n",
    "print(candle_report.shape)"
   ]
  },
  {
   "cell_type": "code",
   "execution_count": 43,
   "metadata": {},
   "outputs": [
    {
     "output_type": "stream",
     "name": "stdout",
     "text": [
      "1616040000000\n"
     ]
    }
   ],
   "source": [
    "time_col = candle_report['time']\n",
    "print(time_col[0])\n",
    "\n",
    "test_conv = time_col[0]\n"
   ]
  },
  {
   "cell_type": "code",
   "execution_count": 44,
   "metadata": {},
   "outputs": [
    {
     "output_type": "stream",
     "name": "stdout",
     "text": [
      "1616040000000\n"
     ]
    }
   ],
   "source": [
    "print(test_conv)"
   ]
  },
  {
   "cell_type": "code",
   "execution_count": 45,
   "metadata": {},
   "outputs": [
    {
     "output_type": "stream",
     "name": "stdout",
     "text": [
      "                  time     open     high      low    close       volume\n0  2021-03-18 04:00:00  0.03124  0.03124  0.03049  0.03096   977.991021\n1  2021-03-17 04:00:00  0.03183  0.03244  0.03079  0.03124  3007.687423\n2  2021-03-16 04:00:00  0.03225  0.03271  0.03150  0.03183  1484.684485\n3  2021-03-15 04:00:00  0.03120  0.03231  0.03076  0.03225  3063.958026\n4  2021-03-14 04:00:00  0.03119  0.03154  0.03089  0.03120  1280.342195\n5  2021-03-13 04:00:00  0.03105  0.03185  0.03066  0.03119  4016.523557\n6  2021-03-12 04:00:00  0.03185  0.03190  0.03049  0.03105  1618.797415\n7  2021-03-11 04:00:00  0.03220  0.03220  0.03147  0.03185  1092.378860\n8  2021-03-10 04:00:00  0.03308  0.03368  0.03176  0.03220  5474.115299\n9  2021-03-09 04:00:00  0.03443  0.03443  0.03305  0.03308  2583.031787\n10 2021-03-08 04:00:00  0.03409  0.03520  0.03376  0.03443  1864.197317\n11 2021-03-07 04:00:00  0.03329  0.03416  0.03243  0.03409  1544.696111\n12 2021-03-06 04:00:00  0.03148  0.03433  0.03148  0.03329  4777.905009\n13 2021-03-05 04:00:00  0.03138  0.03163  0.03077  0.03148  1898.829824\n14 2021-03-04 04:00:00  0.03133  0.03225  0.03115  0.03138  1836.578647\n15 2021-03-03 04:00:00  0.03133  0.03184  0.03106  0.03133  2248.128579\n16 2021-03-02 04:00:00  0.03183  0.03220  0.03071  0.03133  1354.935141\n17 2021-03-01 04:00:00  0.03102  0.03212  0.03095  0.03183  2363.244047\n18 2021-02-28 04:00:00  0.03076  0.03166  0.03000  0.03102  3074.761516\n19 2021-02-27 04:00:00  0.03158  0.03230  0.03076  0.03076  1394.011240\n"
     ]
    }
   ],
   "source": [
    "def tsms_convert(time_ms):\n",
    "    datetimed = pd.to_datetime(time_ms, infer_datetime_format=True, unit='ms')\n",
    "    return datetimed\n",
    "\n",
    "def apply_timeconv(time_coln,func):\n",
    "    convertedtime = pd.Series(map(func,time_coln))\n",
    "    return convertedtime\n",
    "\n",
    "time_col = apply_timeconv(time_col,tsms_convert)\n",
    "\n",
    "csv_rep = candle_report.copy()\n",
    "\n",
    "csv_rep['time'] = time_col\n",
    "\n",
    "print(csv_rep[:20])"
   ]
  },
  {
   "cell_type": "code",
   "execution_count": 47,
   "metadata": {},
   "outputs": [],
   "source": [
    "# Calculate simple returns \n",
    "def calculate_return_series(series: pd.Series) -> pd.Series:\n",
    "    \"\"\"\n",
    "    Calculates the return series of a time series.\n",
    "    The first value will always be NaN.\n",
    "    Output series retains the index of the input series.\n",
    "    \"\"\"\n",
    "    shifted_series = series.shift(1, axis=0)\n",
    "    return series / shifted_series - 1\n",
    "\n",
    "\n",
    "def vwap(vola, higha, lowa) -> pd.Series:\n",
    "    new_arr = np.cumsum(vola*(higha+lowa)/2) / np.cumsum(vola)\n",
    "    return pd.Series(new_arr)"
   ]
  },
  {
   "cell_type": "code",
   "execution_count": 48,
   "metadata": {},
   "outputs": [],
   "source": [
    "close_series = pd.Series(csv_rep[\"close\"])\n",
    "\n",
    "csv_rep['simple_rtn'] = calculate_return_series(close_series)"
   ]
  },
  {
   "cell_type": "code",
   "execution_count": 49,
   "metadata": {},
   "outputs": [
    {
     "output_type": "execute_result",
     "data": {
      "text/plain": [
       "                 time     open     high      low    close       volume  \\\n",
       "0 2021-03-18 04:00:00  0.03124  0.03124  0.03049  0.03096   977.991021   \n",
       "1 2021-03-17 04:00:00  0.03183  0.03244  0.03079  0.03124  3007.687423   \n",
       "2 2021-03-16 04:00:00  0.03225  0.03271  0.03150  0.03183  1484.684485   \n",
       "3 2021-03-15 04:00:00  0.03120  0.03231  0.03076  0.03225  3063.958026   \n",
       "4 2021-03-14 04:00:00  0.03119  0.03154  0.03089  0.03120  1280.342195   \n",
       "\n",
       "   simple_rtn      vwap  \n",
       "0         NaN  0.030865  \n",
       "1    0.009044  0.031431  \n",
       "2    0.018886  0.031614  \n",
       "3    0.013195  0.031586  \n",
       "4   -0.032558  0.031537  "
      ],
      "text/html": "<div>\n<style scoped>\n    .dataframe tbody tr th:only-of-type {\n        vertical-align: middle;\n    }\n\n    .dataframe tbody tr th {\n        vertical-align: top;\n    }\n\n    .dataframe thead th {\n        text-align: right;\n    }\n</style>\n<table border=\"1\" class=\"dataframe\">\n  <thead>\n    <tr style=\"text-align: right;\">\n      <th></th>\n      <th>time</th>\n      <th>open</th>\n      <th>high</th>\n      <th>low</th>\n      <th>close</th>\n      <th>volume</th>\n      <th>simple_rtn</th>\n      <th>vwap</th>\n    </tr>\n  </thead>\n  <tbody>\n    <tr>\n      <th>0</th>\n      <td>2021-03-18 04:00:00</td>\n      <td>0.03124</td>\n      <td>0.03124</td>\n      <td>0.03049</td>\n      <td>0.03096</td>\n      <td>977.991021</td>\n      <td>NaN</td>\n      <td>0.030865</td>\n    </tr>\n    <tr>\n      <th>1</th>\n      <td>2021-03-17 04:00:00</td>\n      <td>0.03183</td>\n      <td>0.03244</td>\n      <td>0.03079</td>\n      <td>0.03124</td>\n      <td>3007.687423</td>\n      <td>0.009044</td>\n      <td>0.031431</td>\n    </tr>\n    <tr>\n      <th>2</th>\n      <td>2021-03-16 04:00:00</td>\n      <td>0.03225</td>\n      <td>0.03271</td>\n      <td>0.03150</td>\n      <td>0.03183</td>\n      <td>1484.684485</td>\n      <td>0.018886</td>\n      <td>0.031614</td>\n    </tr>\n    <tr>\n      <th>3</th>\n      <td>2021-03-15 04:00:00</td>\n      <td>0.03120</td>\n      <td>0.03231</td>\n      <td>0.03076</td>\n      <td>0.03225</td>\n      <td>3063.958026</td>\n      <td>0.013195</td>\n      <td>0.031586</td>\n    </tr>\n    <tr>\n      <th>4</th>\n      <td>2021-03-14 04:00:00</td>\n      <td>0.03119</td>\n      <td>0.03154</td>\n      <td>0.03089</td>\n      <td>0.03120</td>\n      <td>1280.342195</td>\n      <td>-0.032558</td>\n      <td>0.031537</td>\n    </tr>\n  </tbody>\n</table>\n</div>"
     },
     "metadata": {},
     "execution_count": 49
    }
   ],
   "source": [
    "\n",
    "volume_arr = csv_rep.volume.values\n",
    "high_arr = csv_rep.high.values\n",
    "low_arr = csv_rep.low.values\n",
    "\n",
    "\n",
    "\n",
    "csv_rep['vwap'] = vwap(volume_arr, high_arr, low_arr)\n",
    "\n",
    "csv_rep.head()"
   ]
  },
  {
   "cell_type": "code",
   "execution_count": 50,
   "metadata": {},
   "outputs": [],
   "source": [
    "# Save csv\n",
    "csv_rep.to_csv('OHLC_daily_ethbtc_gemini_210318.csv', index=False)"
   ]
  },
  {
   "cell_type": "code",
   "execution_count": null,
   "metadata": {},
   "outputs": [],
   "source": [
    "#parquet.read_table(\"./tradehistory_daily_btcusd_gemini_210317.parquet\", columns=['time'])"
   ]
  },
  {
   "source": [
    "### Calculate VWAP"
   ],
   "cell_type": "markdown",
   "metadata": {}
  },
  {
   "cell_type": "code",
   "execution_count": 29,
   "metadata": {},
   "outputs": [
    {
     "output_type": "execute_result",
     "data": {
      "text/plain": [
       "            time      open      high       low     close       volume\n",
       "0  1616040000000  58687.36  60099.99  57493.67  58468.14  1011.498722\n",
       "1  1615953600000  55548.73  59567.59  54144.95  58687.36  1950.943235\n",
       "2  1615867200000  54255.04  57185.78  53589.00  55548.73  1350.969382\n",
       "3  1615780800000  60362.18  60561.59  53238.69  54255.04  3453.090624\n",
       "4  1615694400000  61354.75  61500.82  58750.00  60362.18  1286.146361"
      ],
      "text/html": "<div>\n<style scoped>\n    .dataframe tbody tr th:only-of-type {\n        vertical-align: middle;\n    }\n\n    .dataframe tbody tr th {\n        vertical-align: top;\n    }\n\n    .dataframe thead th {\n        text-align: right;\n    }\n</style>\n<table border=\"1\" class=\"dataframe\">\n  <thead>\n    <tr style=\"text-align: right;\">\n      <th></th>\n      <th>time</th>\n      <th>open</th>\n      <th>high</th>\n      <th>low</th>\n      <th>close</th>\n      <th>volume</th>\n    </tr>\n  </thead>\n  <tbody>\n    <tr>\n      <th>0</th>\n      <td>1616040000000</td>\n      <td>58687.36</td>\n      <td>60099.99</td>\n      <td>57493.67</td>\n      <td>58468.14</td>\n      <td>1011.498722</td>\n    </tr>\n    <tr>\n      <th>1</th>\n      <td>1615953600000</td>\n      <td>55548.73</td>\n      <td>59567.59</td>\n      <td>54144.95</td>\n      <td>58687.36</td>\n      <td>1950.943235</td>\n    </tr>\n    <tr>\n      <th>2</th>\n      <td>1615867200000</td>\n      <td>54255.04</td>\n      <td>57185.78</td>\n      <td>53589.00</td>\n      <td>55548.73</td>\n      <td>1350.969382</td>\n    </tr>\n    <tr>\n      <th>3</th>\n      <td>1615780800000</td>\n      <td>60362.18</td>\n      <td>60561.59</td>\n      <td>53238.69</td>\n      <td>54255.04</td>\n      <td>3453.090624</td>\n    </tr>\n    <tr>\n      <th>4</th>\n      <td>1615694400000</td>\n      <td>61354.75</td>\n      <td>61500.82</td>\n      <td>58750.00</td>\n      <td>60362.18</td>\n      <td>1286.146361</td>\n    </tr>\n  </tbody>\n</table>\n</div>"
     },
     "metadata": {},
     "execution_count": 29
    }
   ],
   "source": [
    "candle_report.head()\n",
    "\n"
   ]
  },
  {
   "cell_type": "code",
   "execution_count": 46,
   "metadata": {},
   "outputs": [],
   "source": [
    "# Calculate simple returns \n",
    "def calculate_return_series(series: pd.Series) -> pd.Series:\n",
    "    \"\"\"\n",
    "    Calculates the return series of a time series.\n",
    "    The first value will always be NaN.\n",
    "    Output series retains the index of the input series.\n",
    "    \"\"\"\n",
    "    shifted_series = series.shift(1, axis=0)\n",
    "    return series / shifted_series - 1\n",
    "\n",
    "\n",
    "def vwap(vola, higha, lowa) -> pd.Series:\n",
    "    new_arr = np.cumsum(vola*(higha+lowa)/2) / np.cumsum(vola)\n",
    "    return pd.Series(new_arr)"
   ]
  },
  {
   "cell_type": "code",
   "execution_count": 51,
   "metadata": {},
   "outputs": [],
   "source": [
    "\n",
    "close_series = pd.Series(candle_report[\"close\"])\n",
    "\n",
    "candle_report['simple_rtn'] = calculate_return_series(close_series)\n",
    "\n"
   ]
  },
  {
   "cell_type": "code",
   "execution_count": 52,
   "metadata": {},
   "outputs": [
    {
     "output_type": "execute_result",
     "data": {
      "text/plain": [
       "            time     open     high      low    close       volume  simple_rtn\n",
       "0  1616040000000  0.03124  0.03124  0.03049  0.03096   977.991021         NaN\n",
       "1  1615953600000  0.03183  0.03244  0.03079  0.03124  3007.687423    0.009044\n",
       "2  1615867200000  0.03225  0.03271  0.03150  0.03183  1484.684485    0.018886\n",
       "3  1615780800000  0.03120  0.03231  0.03076  0.03225  3063.958026    0.013195\n",
       "4  1615694400000  0.03119  0.03154  0.03089  0.03120  1280.342195   -0.032558"
      ],
      "text/html": "<div>\n<style scoped>\n    .dataframe tbody tr th:only-of-type {\n        vertical-align: middle;\n    }\n\n    .dataframe tbody tr th {\n        vertical-align: top;\n    }\n\n    .dataframe thead th {\n        text-align: right;\n    }\n</style>\n<table border=\"1\" class=\"dataframe\">\n  <thead>\n    <tr style=\"text-align: right;\">\n      <th></th>\n      <th>time</th>\n      <th>open</th>\n      <th>high</th>\n      <th>low</th>\n      <th>close</th>\n      <th>volume</th>\n      <th>simple_rtn</th>\n    </tr>\n  </thead>\n  <tbody>\n    <tr>\n      <th>0</th>\n      <td>1616040000000</td>\n      <td>0.03124</td>\n      <td>0.03124</td>\n      <td>0.03049</td>\n      <td>0.03096</td>\n      <td>977.991021</td>\n      <td>NaN</td>\n    </tr>\n    <tr>\n      <th>1</th>\n      <td>1615953600000</td>\n      <td>0.03183</td>\n      <td>0.03244</td>\n      <td>0.03079</td>\n      <td>0.03124</td>\n      <td>3007.687423</td>\n      <td>0.009044</td>\n    </tr>\n    <tr>\n      <th>2</th>\n      <td>1615867200000</td>\n      <td>0.03225</td>\n      <td>0.03271</td>\n      <td>0.03150</td>\n      <td>0.03183</td>\n      <td>1484.684485</td>\n      <td>0.018886</td>\n    </tr>\n    <tr>\n      <th>3</th>\n      <td>1615780800000</td>\n      <td>0.03120</td>\n      <td>0.03231</td>\n      <td>0.03076</td>\n      <td>0.03225</td>\n      <td>3063.958026</td>\n      <td>0.013195</td>\n    </tr>\n    <tr>\n      <th>4</th>\n      <td>1615694400000</td>\n      <td>0.03119</td>\n      <td>0.03154</td>\n      <td>0.03089</td>\n      <td>0.03120</td>\n      <td>1280.342195</td>\n      <td>-0.032558</td>\n    </tr>\n  </tbody>\n</table>\n</div>"
     },
     "metadata": {},
     "execution_count": 52
    }
   ],
   "source": [
    "candle_report.head()"
   ]
  },
  {
   "cell_type": "code",
   "execution_count": 53,
   "metadata": {},
   "outputs": [
    {
     "output_type": "execute_result",
     "data": {
      "text/plain": [
       "            time     open     high      low    close       volume  simple_rtn  \\\n",
       "0  1616040000000  0.03124  0.03124  0.03049  0.03096   977.991021         NaN   \n",
       "1  1615953600000  0.03183  0.03244  0.03079  0.03124  3007.687423    0.009044   \n",
       "2  1615867200000  0.03225  0.03271  0.03150  0.03183  1484.684485    0.018886   \n",
       "3  1615780800000  0.03120  0.03231  0.03076  0.03225  3063.958026    0.013195   \n",
       "4  1615694400000  0.03119  0.03154  0.03089  0.03120  1280.342195   -0.032558   \n",
       "\n",
       "       vwap  \n",
       "0  0.030865  \n",
       "1  0.031431  \n",
       "2  0.031614  \n",
       "3  0.031586  \n",
       "4  0.031537  "
      ],
      "text/html": "<div>\n<style scoped>\n    .dataframe tbody tr th:only-of-type {\n        vertical-align: middle;\n    }\n\n    .dataframe tbody tr th {\n        vertical-align: top;\n    }\n\n    .dataframe thead th {\n        text-align: right;\n    }\n</style>\n<table border=\"1\" class=\"dataframe\">\n  <thead>\n    <tr style=\"text-align: right;\">\n      <th></th>\n      <th>time</th>\n      <th>open</th>\n      <th>high</th>\n      <th>low</th>\n      <th>close</th>\n      <th>volume</th>\n      <th>simple_rtn</th>\n      <th>vwap</th>\n    </tr>\n  </thead>\n  <tbody>\n    <tr>\n      <th>0</th>\n      <td>1616040000000</td>\n      <td>0.03124</td>\n      <td>0.03124</td>\n      <td>0.03049</td>\n      <td>0.03096</td>\n      <td>977.991021</td>\n      <td>NaN</td>\n      <td>0.030865</td>\n    </tr>\n    <tr>\n      <th>1</th>\n      <td>1615953600000</td>\n      <td>0.03183</td>\n      <td>0.03244</td>\n      <td>0.03079</td>\n      <td>0.03124</td>\n      <td>3007.687423</td>\n      <td>0.009044</td>\n      <td>0.031431</td>\n    </tr>\n    <tr>\n      <th>2</th>\n      <td>1615867200000</td>\n      <td>0.03225</td>\n      <td>0.03271</td>\n      <td>0.03150</td>\n      <td>0.03183</td>\n      <td>1484.684485</td>\n      <td>0.018886</td>\n      <td>0.031614</td>\n    </tr>\n    <tr>\n      <th>3</th>\n      <td>1615780800000</td>\n      <td>0.03120</td>\n      <td>0.03231</td>\n      <td>0.03076</td>\n      <td>0.03225</td>\n      <td>3063.958026</td>\n      <td>0.013195</td>\n      <td>0.031586</td>\n    </tr>\n    <tr>\n      <th>4</th>\n      <td>1615694400000</td>\n      <td>0.03119</td>\n      <td>0.03154</td>\n      <td>0.03089</td>\n      <td>0.03120</td>\n      <td>1280.342195</td>\n      <td>-0.032558</td>\n      <td>0.031537</td>\n    </tr>\n  </tbody>\n</table>\n</div>"
     },
     "metadata": {},
     "execution_count": 53
    }
   ],
   "source": [
    "\n",
    "\n",
    "volume_arr = candle_report.volume.values\n",
    "high_arr = candle_report.high.values\n",
    "low_arr = candle_report.low.values\n",
    "\n",
    "\n",
    "\n",
    "candle_report['vwap'] = vwap(volume_arr, high_arr, low_arr)\n",
    "\n",
    "candle_report.head()\n"
   ]
  },
  {
   "cell_type": "code",
   "execution_count": 54,
   "metadata": {},
   "outputs": [],
   "source": [
    "pqtable = pa.Table.from_pandas(candle_report)\n",
    "pq.write_table(pqtable, 'OHLC_daily_ethbtc_gemini_210318.parquet')"
   ]
  },
  {
   "source": [
    "## Gemini Ticker V2 API\n",
    "\n",
    "Link: [ticker v2 api](https://docs.gemini.com/rest-api/#ticker)\n",
    "\n",
    "Description: This endpoint retrieves information about recent trading activity for the provided symbol.\n",
    "\n",
    "HTTP REQUEST\n",
    "- GET https://api.gemini.com/v2/ticker/:symbol\n",
    "\n",
    "URL PARAMETERS: None\n",
    "\n",
    "SANDBOX: api.sandbox.gemini.com/v2 \n",
    "\n",
    "RESPONSE\n",
    "\n",
    "The response will be an object containing symbol, open, high, low, close, changes, bid, ask\n"
   ],
   "cell_type": "markdown",
   "metadata": {}
  },
  {
   "source": [
    "### Set Libraries"
   ],
   "cell_type": "markdown",
   "metadata": {}
  },
  {
   "cell_type": "code",
   "execution_count": 2,
   "metadata": {},
   "outputs": [],
   "source": [
    "\n",
    "from requests import get\n",
    "\n",
    "import numpy as np\n",
    "import pandas as pd\n",
    "\n",
    "import pyarrow as pa\n",
    "import pyarrow.parquet as parquet"
   ]
  },
  {
   "cell_type": "code",
   "execution_count": 5,
   "metadata": {},
   "outputs": [
    {
     "output_type": "stream",
     "name": "stdout",
     "text": [
      "https://api.gemini.com/v2/ticker/btcusd\n"
     ]
    }
   ],
   "source": [
    "\n",
    "tradehistory_baseurl = \"https://api.gemini.com/v2/\"\n",
    "tradehistory_endpoint = \"ticker/\"\n",
    "\n",
    "symbols = [\"btcusd\",\"ethbtc\"]\n",
    "\n",
    "url_persymbol = [\"\".join([tradehistory_baseurl,tradehistory_endpoint,sym]) for sym in symbols]\n",
    "\n",
    "symbolurl_struct = {}\n",
    "for symbol,url in zip(symbols,url_persymbol):\n",
    "    symbolurl_struct[symbol] = url\n",
    "\n",
    "# Set currency pair for report\n",
    "report_symbol = symbols[0]\n",
    "\n",
    "report_url = symbolurl_struct[report_symbol]\n",
    "print(report_url)"
   ]
  },
  {
   "cell_type": "code",
   "execution_count": 6,
   "metadata": {},
   "outputs": [],
   "source": [
    "tickerv2resp = get(report_url)"
   ]
  },
  {
   "cell_type": "code",
   "execution_count": 10,
   "metadata": {},
   "outputs": [
    {
     "output_type": "execute_result",
     "data": {
      "text/plain": [
       "    symbol      open      high       low     close   changes       bid  \\\n",
       "0   BTCUSD  55546.12  60099.99  55450.01  59373.32  59105.61  59353.06   \n",
       "1   BTCUSD  55546.12  60099.99  55450.01  59373.32  59546.27  59353.06   \n",
       "2   BTCUSD  55546.12  60099.99  55450.01  59373.32  57886.65  59353.06   \n",
       "3   BTCUSD  55546.12  60099.99  55450.01  59373.32  57841.45  59353.06   \n",
       "4   BTCUSD  55546.12  60099.99  55450.01  59373.32  58086.26  59353.06   \n",
       "5   BTCUSD  55546.12  60099.99  55450.01  59373.32  58177.43  59353.06   \n",
       "6   BTCUSD  55546.12  60099.99  55450.01  59373.32  58494.23  59353.06   \n",
       "7   BTCUSD  55546.12  60099.99  55450.01  59373.32  58470.87  59353.06   \n",
       "8   BTCUSD  55546.12  60099.99  55450.01  59373.32  58005.61  59353.06   \n",
       "9   BTCUSD  55546.12  60099.99  55450.01  59373.32  58379.77  59353.06   \n",
       "10  BTCUSD  55546.12  60099.99  55450.01  59373.32  58945.38  59353.06   \n",
       "11  BTCUSD  55546.12  60099.99  55450.01  59373.32  58995.47  59353.06   \n",
       "12  BTCUSD  55546.12  60099.99  55450.01  59373.32  58840.66  59353.06   \n",
       "13  BTCUSD  55546.12  60099.99  55450.01  59373.32  58687.36  59353.06   \n",
       "14  BTCUSD  55546.12  60099.99  55450.01  59373.32  59027.06  59353.06   \n",
       "15  BTCUSD  55546.12  60099.99  55450.01  59373.32  59075.14  59353.06   \n",
       "16  BTCUSD  55546.12  60099.99  55450.01  59373.32  58969.98  59353.06   \n",
       "17  BTCUSD  55546.12  60099.99  55450.01  59373.32  58909.04  59353.06   \n",
       "18  BTCUSD  55546.12  60099.99  55450.01  59373.32  58323.73  59353.06   \n",
       "19  BTCUSD  55546.12  60099.99  55450.01  59373.32   58511.7  59353.06   \n",
       "20  BTCUSD  55546.12  60099.99  55450.01  59373.32  57776.75  59353.06   \n",
       "21  BTCUSD  55546.12  60099.99  55450.01  59373.32     57900  59353.06   \n",
       "22  BTCUSD  55546.12  60099.99  55450.01  59373.32  57645.49  59353.06   \n",
       "23  BTCUSD  55546.12  60099.99  55450.01  59373.32  55558.45  59353.06   \n",
       "\n",
       "         ask  \n",
       "0   59366.62  \n",
       "1   59366.62  \n",
       "2   59366.62  \n",
       "3   59366.62  \n",
       "4   59366.62  \n",
       "5   59366.62  \n",
       "6   59366.62  \n",
       "7   59366.62  \n",
       "8   59366.62  \n",
       "9   59366.62  \n",
       "10  59366.62  \n",
       "11  59366.62  \n",
       "12  59366.62  \n",
       "13  59366.62  \n",
       "14  59366.62  \n",
       "15  59366.62  \n",
       "16  59366.62  \n",
       "17  59366.62  \n",
       "18  59366.62  \n",
       "19  59366.62  \n",
       "20  59366.62  \n",
       "21  59366.62  \n",
       "22  59366.62  \n",
       "23  59366.62  "
      ],
      "text/html": "<div>\n<style scoped>\n    .dataframe tbody tr th:only-of-type {\n        vertical-align: middle;\n    }\n\n    .dataframe tbody tr th {\n        vertical-align: top;\n    }\n\n    .dataframe thead th {\n        text-align: right;\n    }\n</style>\n<table border=\"1\" class=\"dataframe\">\n  <thead>\n    <tr style=\"text-align: right;\">\n      <th></th>\n      <th>symbol</th>\n      <th>open</th>\n      <th>high</th>\n      <th>low</th>\n      <th>close</th>\n      <th>changes</th>\n      <th>bid</th>\n      <th>ask</th>\n    </tr>\n  </thead>\n  <tbody>\n    <tr>\n      <th>0</th>\n      <td>BTCUSD</td>\n      <td>55546.12</td>\n      <td>60099.99</td>\n      <td>55450.01</td>\n      <td>59373.32</td>\n      <td>59105.61</td>\n      <td>59353.06</td>\n      <td>59366.62</td>\n    </tr>\n    <tr>\n      <th>1</th>\n      <td>BTCUSD</td>\n      <td>55546.12</td>\n      <td>60099.99</td>\n      <td>55450.01</td>\n      <td>59373.32</td>\n      <td>59546.27</td>\n      <td>59353.06</td>\n      <td>59366.62</td>\n    </tr>\n    <tr>\n      <th>2</th>\n      <td>BTCUSD</td>\n      <td>55546.12</td>\n      <td>60099.99</td>\n      <td>55450.01</td>\n      <td>59373.32</td>\n      <td>57886.65</td>\n      <td>59353.06</td>\n      <td>59366.62</td>\n    </tr>\n    <tr>\n      <th>3</th>\n      <td>BTCUSD</td>\n      <td>55546.12</td>\n      <td>60099.99</td>\n      <td>55450.01</td>\n      <td>59373.32</td>\n      <td>57841.45</td>\n      <td>59353.06</td>\n      <td>59366.62</td>\n    </tr>\n    <tr>\n      <th>4</th>\n      <td>BTCUSD</td>\n      <td>55546.12</td>\n      <td>60099.99</td>\n      <td>55450.01</td>\n      <td>59373.32</td>\n      <td>58086.26</td>\n      <td>59353.06</td>\n      <td>59366.62</td>\n    </tr>\n    <tr>\n      <th>5</th>\n      <td>BTCUSD</td>\n      <td>55546.12</td>\n      <td>60099.99</td>\n      <td>55450.01</td>\n      <td>59373.32</td>\n      <td>58177.43</td>\n      <td>59353.06</td>\n      <td>59366.62</td>\n    </tr>\n    <tr>\n      <th>6</th>\n      <td>BTCUSD</td>\n      <td>55546.12</td>\n      <td>60099.99</td>\n      <td>55450.01</td>\n      <td>59373.32</td>\n      <td>58494.23</td>\n      <td>59353.06</td>\n      <td>59366.62</td>\n    </tr>\n    <tr>\n      <th>7</th>\n      <td>BTCUSD</td>\n      <td>55546.12</td>\n      <td>60099.99</td>\n      <td>55450.01</td>\n      <td>59373.32</td>\n      <td>58470.87</td>\n      <td>59353.06</td>\n      <td>59366.62</td>\n    </tr>\n    <tr>\n      <th>8</th>\n      <td>BTCUSD</td>\n      <td>55546.12</td>\n      <td>60099.99</td>\n      <td>55450.01</td>\n      <td>59373.32</td>\n      <td>58005.61</td>\n      <td>59353.06</td>\n      <td>59366.62</td>\n    </tr>\n    <tr>\n      <th>9</th>\n      <td>BTCUSD</td>\n      <td>55546.12</td>\n      <td>60099.99</td>\n      <td>55450.01</td>\n      <td>59373.32</td>\n      <td>58379.77</td>\n      <td>59353.06</td>\n      <td>59366.62</td>\n    </tr>\n    <tr>\n      <th>10</th>\n      <td>BTCUSD</td>\n      <td>55546.12</td>\n      <td>60099.99</td>\n      <td>55450.01</td>\n      <td>59373.32</td>\n      <td>58945.38</td>\n      <td>59353.06</td>\n      <td>59366.62</td>\n    </tr>\n    <tr>\n      <th>11</th>\n      <td>BTCUSD</td>\n      <td>55546.12</td>\n      <td>60099.99</td>\n      <td>55450.01</td>\n      <td>59373.32</td>\n      <td>58995.47</td>\n      <td>59353.06</td>\n      <td>59366.62</td>\n    </tr>\n    <tr>\n      <th>12</th>\n      <td>BTCUSD</td>\n      <td>55546.12</td>\n      <td>60099.99</td>\n      <td>55450.01</td>\n      <td>59373.32</td>\n      <td>58840.66</td>\n      <td>59353.06</td>\n      <td>59366.62</td>\n    </tr>\n    <tr>\n      <th>13</th>\n      <td>BTCUSD</td>\n      <td>55546.12</td>\n      <td>60099.99</td>\n      <td>55450.01</td>\n      <td>59373.32</td>\n      <td>58687.36</td>\n      <td>59353.06</td>\n      <td>59366.62</td>\n    </tr>\n    <tr>\n      <th>14</th>\n      <td>BTCUSD</td>\n      <td>55546.12</td>\n      <td>60099.99</td>\n      <td>55450.01</td>\n      <td>59373.32</td>\n      <td>59027.06</td>\n      <td>59353.06</td>\n      <td>59366.62</td>\n    </tr>\n    <tr>\n      <th>15</th>\n      <td>BTCUSD</td>\n      <td>55546.12</td>\n      <td>60099.99</td>\n      <td>55450.01</td>\n      <td>59373.32</td>\n      <td>59075.14</td>\n      <td>59353.06</td>\n      <td>59366.62</td>\n    </tr>\n    <tr>\n      <th>16</th>\n      <td>BTCUSD</td>\n      <td>55546.12</td>\n      <td>60099.99</td>\n      <td>55450.01</td>\n      <td>59373.32</td>\n      <td>58969.98</td>\n      <td>59353.06</td>\n      <td>59366.62</td>\n    </tr>\n    <tr>\n      <th>17</th>\n      <td>BTCUSD</td>\n      <td>55546.12</td>\n      <td>60099.99</td>\n      <td>55450.01</td>\n      <td>59373.32</td>\n      <td>58909.04</td>\n      <td>59353.06</td>\n      <td>59366.62</td>\n    </tr>\n    <tr>\n      <th>18</th>\n      <td>BTCUSD</td>\n      <td>55546.12</td>\n      <td>60099.99</td>\n      <td>55450.01</td>\n      <td>59373.32</td>\n      <td>58323.73</td>\n      <td>59353.06</td>\n      <td>59366.62</td>\n    </tr>\n    <tr>\n      <th>19</th>\n      <td>BTCUSD</td>\n      <td>55546.12</td>\n      <td>60099.99</td>\n      <td>55450.01</td>\n      <td>59373.32</td>\n      <td>58511.7</td>\n      <td>59353.06</td>\n      <td>59366.62</td>\n    </tr>\n    <tr>\n      <th>20</th>\n      <td>BTCUSD</td>\n      <td>55546.12</td>\n      <td>60099.99</td>\n      <td>55450.01</td>\n      <td>59373.32</td>\n      <td>57776.75</td>\n      <td>59353.06</td>\n      <td>59366.62</td>\n    </tr>\n    <tr>\n      <th>21</th>\n      <td>BTCUSD</td>\n      <td>55546.12</td>\n      <td>60099.99</td>\n      <td>55450.01</td>\n      <td>59373.32</td>\n      <td>57900</td>\n      <td>59353.06</td>\n      <td>59366.62</td>\n    </tr>\n    <tr>\n      <th>22</th>\n      <td>BTCUSD</td>\n      <td>55546.12</td>\n      <td>60099.99</td>\n      <td>55450.01</td>\n      <td>59373.32</td>\n      <td>57645.49</td>\n      <td>59353.06</td>\n      <td>59366.62</td>\n    </tr>\n    <tr>\n      <th>23</th>\n      <td>BTCUSD</td>\n      <td>55546.12</td>\n      <td>60099.99</td>\n      <td>55450.01</td>\n      <td>59373.32</td>\n      <td>55558.45</td>\n      <td>59353.06</td>\n      <td>59366.62</td>\n    </tr>\n  </tbody>\n</table>\n</div>"
     },
     "metadata": {},
     "execution_count": 10
    }
   ],
   "source": [
    "pd.DataFrame(tickerv2resp.json())"
   ]
  },
  {
   "cell_type": "code",
   "execution_count": null,
   "metadata": {},
   "outputs": [],
   "source": []
  }
 ]
}